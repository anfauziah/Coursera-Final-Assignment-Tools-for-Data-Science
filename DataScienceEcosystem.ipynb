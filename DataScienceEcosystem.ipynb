{
 "cells": [
  {
   "cell_type": "markdown",
   "id": "ad19379e-5446-4a4b-b256-f1a8a4d4afd9",
   "metadata": {},
   "source": [
    "<h1> Data Science Tools and Ecosystem"
   ]
  },
  {
   "cell_type": "raw",
   "id": "3b4fddc4-2e8f-4e36-823c-c4b128690620",
   "metadata": {},
   "source": [
    "In this notebook, Data Science Tools and Ecosystem are summarized."
   ]
  },
  {
   "cell_type": "markdown",
   "id": "1da7bdf8-2647-4d1b-9638-daf6d6777303",
   "metadata": {},
   "source": [
    "### list data science languages"
   ]
  },
  {
   "cell_type": "code",
   "execution_count": 20,
   "id": "7023192a-fa7c-4004-96ce-03b4eaadfd25",
   "metadata": {
    "tags": []
   },
   "outputs": [
    {
     "name": "stdout",
     "output_type": "stream",
     "text": [
      "popular language at data science :  ['PHP', 'c++', 'java', 'javascript', 'python']\n"
     ]
    }
   ],
   "source": [
    "#Some of the popular languages that Data Scientists use are:\n",
    "languageslist = [\"python\", \"java\", \"c++\", \"PHP\", \"javascript\"]\n",
    "\n",
    "languageslist.sort()\n",
    "print(\"popular language at data science : \",languageslist)"
   ]
  },
  {
   "cell_type": "markdown",
   "id": "332fdc86-f4eb-4029-b7e6-b2b6bb62dff3",
   "metadata": {},
   "source": [
    "### list data science libraries"
   ]
  },
  {
   "cell_type": "code",
   "execution_count": 22,
   "id": "1e576515-c9ab-4cfa-8f0f-3593cb4b3eeb",
   "metadata": {
    "tags": []
   },
   "outputs": [
    {
     "name": "stdout",
     "output_type": "stream",
     "text": [
      "Some commonly libraries used by data scientists :  ['Matplotlib', 'SciPy', 'Scikit-Learn', 'TensorFlow', 'numpy', 'pandas']\n"
     ]
    }
   ],
   "source": [
    "#Some of the commonly used libraries used by Data Scientists include:\n",
    "libraryList = [\"pandas\", \"numpy\", \"Scikit-Learn\", \"TensorFlow\", \"Matplotlib\", \"SciPy\"]\n",
    "\n",
    "libraryList.sort()\n",
    "print(\"Some commonly libraries used by data scientists : \", libraryList)"
   ]
  },
  {
   "cell_type": "markdown",
   "id": "f60125d2-a9ad-4eac-8cc1-fd9d38b0bbfb",
   "metadata": {},
   "source": [
    "### a table of Data Science tools"
   ]
  },
  {
   "cell_type": "code",
   "execution_count": 55,
   "id": "2a30a559-dbd8-4c04-951e-bf05058f439d",
   "metadata": {
    "tags": []
   },
   "outputs": [
    {
     "name": "stdout",
     "output_type": "stream",
     "text": [
      "+----+------------------+------------------------------------------------------+\n",
      "| no |      tools       |                         desc                         |\n",
      "+----+------------------+------------------------------------------------------+\n",
      "| 1  |      Python      |                 programming language                 |\n",
      "| 2  | Jupyter Notebook | create or write code, visualizations, and narratives |\n",
      "| 3  |     Tableau      |                  data visualization                  |\n",
      "| 4  |    TensorFlow    |       create and train Machine Learning models       |\n",
      "+----+------------------+------------------------------------------------------+\n"
     ]
    },
    {
     "data": {
      "text/html": [
       "<table>\n",
       "    <thead>\n",
       "        <tr>\n",
       "            <th>no</th>\n",
       "            <th>tools</th>\n",
       "            <th>desc</th>\n",
       "        </tr>\n",
       "    </thead>\n",
       "    <tbody>\n",
       "        <tr>\n",
       "            <td>1</td>\n",
       "            <td>Python</td>\n",
       "            <td>programming language</td>\n",
       "        </tr>\n",
       "        <tr>\n",
       "            <td>2</td>\n",
       "            <td>Jupyter Notebook</td>\n",
       "            <td>create or write code, visualizations, and narratives</td>\n",
       "        </tr>\n",
       "        <tr>\n",
       "            <td>3</td>\n",
       "            <td>Tableau</td>\n",
       "            <td>data visualization</td>\n",
       "        </tr>\n",
       "        <tr>\n",
       "            <td>4</td>\n",
       "            <td>TensorFlow</td>\n",
       "            <td>create and train Machine Learning models</td>\n",
       "        </tr>\n",
       "    </tbody>\n",
       "</table>"
      ],
      "text/plain": [
       "+----+------------------+------------------------------------------------------+\n",
       "| no |      tools       |                         desc                         |\n",
       "+----+------------------+------------------------------------------------------+\n",
       "| 1  |      Python      |                 programming language                 |\n",
       "| 2  | Jupyter Notebook | create or write code, visualizations, and narratives |\n",
       "| 3  |     Tableau      |                  data visualization                  |\n",
       "| 4  |    TensorFlow    |       create and train Machine Learning models       |\n",
       "+----+------------------+------------------------------------------------------+"
      ]
     },
     "execution_count": 55,
     "metadata": {},
     "output_type": "execute_result"
    }
   ],
   "source": [
    "import pandas as pd\n",
    "from prettytable import PrettyTable\n",
    "\n",
    "data = [[1,'Python','programming language'],\n",
    "        [2,'Jupyter Notebook','create or write code, visualizations, and narratives'],\n",
    "        [3,'Tableau','data visualization'],\n",
    "        [4,'TensorFlow','create and train Machine Learning models']]\n",
    "df = pd.DataFrame(data, columns=['no', 'tools', 'desc'])\n",
    "\n",
    "def generate_ascii_table(df):\n",
    "    x = PrettyTable()\n",
    "    x.field_names = df.columns.tolist()\n",
    "    for row in df.values:\n",
    "        x.add_row(row)\n",
    "    print(x)\n",
    "    return x\n",
    "\n",
    "generate_ascii_table(df)"
   ]
  },
  {
   "cell_type": "markdown",
   "id": "bc08608e-302b-421b-a734-cee9ac1d2353",
   "metadata": {},
   "source": [
    "<h3> Below are a few examples of evaluating arithmetic expressions in Python"
   ]
  },
  {
   "cell_type": "code",
   "execution_count": 56,
   "id": "8c84bba9-4a3c-4aaf-bb46-626c01b3f83f",
   "metadata": {
    "tags": []
   },
   "outputs": [
    {
     "name": "stdout",
     "output_type": "stream",
     "text": [
      "17\n"
     ]
    }
   ],
   "source": [
    "hasil = ( 3 * 4 ) + 5;\n",
    "\n",
    "print(hasil)\n"
   ]
  },
  {
   "cell_type": "code",
   "execution_count": 60,
   "id": "1791a75e-b2cb-490d-95ca-2014593ef932",
   "metadata": {
    "tags": []
   },
   "outputs": [
    {
     "name": "stdout",
     "output_type": "stream",
     "text": [
      "200 minutes = 3 hours and 20 minutes.\n"
     ]
    }
   ],
   "source": [
    "input_minutes = 200\n",
    "\n",
    "# Conversion min to hours\n",
    "hours = input_minutes // 60\n",
    "left_minutes = input_minutes % 60\n",
    "\n",
    "print(f\"{input_minutes} minutes = {hours} hours and {left_minutes} minutes.\")"
   ]
  },
  {
   "cell_type": "markdown",
   "id": "9f934ed8-7e66-4b28-8a1d-52f9280a830d",
   "metadata": {
    "tags": []
   },
   "source": [
    "**list programming language in data science :**\n",
    " <ul> \n",
    "        <li>Python</li> \n",
    "        <li>R</li>\n",
    "        <li>SQL</li>\n",
    "        <li>Scala</li>\n",
    "    </ul>"
   ]
  },
  {
   "cell_type": "markdown",
   "id": "236dcd75-1dc6-4ffb-b22f-22890ae4aeb9",
   "metadata": {},
   "source": [
    "<h2> Author: Azmi Fauziah"
   ]
  }
 ],
 "metadata": {
  "kernelspec": {
   "display_name": "Python",
   "language": "python",
   "name": "conda-env-python-py"
  },
  "language_info": {
   "codemirror_mode": {
    "name": "ipython",
    "version": 3
   },
   "file_extension": ".py",
   "mimetype": "text/x-python",
   "name": "python",
   "nbconvert_exporter": "python",
   "pygments_lexer": "ipython3",
   "version": "3.7.12"
  }
 },
 "nbformat": 4,
 "nbformat_minor": 5
}
